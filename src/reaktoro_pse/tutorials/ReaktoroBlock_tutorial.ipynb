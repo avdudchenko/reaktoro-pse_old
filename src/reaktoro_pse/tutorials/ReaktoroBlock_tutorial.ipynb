{
 "cells": [
  {
   "cell_type": "markdown",
   "metadata": {},
   "source": [
    "# Tutrial on interacting with ReaktoroBlock\n",
    "Demonstration of how use reaktoro block in practical settings. \n",
    "\n",
    "## Dependencies\n",
    "* Python - Programming language\n",
    "* Pyomo - Python package for equation-oriented modeling\n",
    "* IDAES - Python package extending Pyomo for flowsheet modeling\n",
    "* cyipopt - Solver necessary for use with gray box models\n",
    "* Reaktoro-pse -python package for building rektoro block\n",
    "* WaterTAP - Unit models"
   ]
  },
  {
   "cell_type": "markdown",
   "metadata": {},
   "source": [
    "## Demonstration structure \n",
    "* Background on speciation and reaktoro-pse philosophy \n",
    "* Setting up basic speciation block and calculating properties for a feed composition\n",
    "    * Demonstrate key configuration options\n",
    "    * Key display options\n",
    "* Adding reaktoro block to a RO water tap model for calculation of local osmotic pressure, scaling tendency, and pH\n"
   ]
  },
  {
   "cell_type": "markdown",
   "metadata": {},
   "source": [
    "## Reaktoro-PSE API and structure \n",
    "Reaktoro-pse is a wrapper for enabling use of reaktoro (https://reaktoro.org/) as a graybox model in IDAES compatible modeling platforms such as WaterTAP. This is not a replacement for reaktoro or higher level API for reaktoro. \n",
    "\n",
    "The general objective to it provide a structure for user to to provide:\n",
    "\n",
    "    (1) Method for specifying inputs for reaktoro \n",
    "    (2) Configure rekatoro to use desired databases and activity models \n",
    "    (3) Simplify building configurations for equilibrium calculations using apparent and exact speciation\n",
    "    (4) Specify outputs supported by reaktoro and custom outputs built using rektoro database information and outputs \n",
    "\n",
    "The general API structure is shown in Figure bellow. The figure shows the type of inputs and outputs and how they are handled by core api to configure reaktoro graybox model. "
   ]
  },
  {
   "cell_type": "markdown",
   "metadata": {},
   "source": [
    "<img src=\"reaktoro_pse_api.png\" width=\"1000\" height=\"650\">"
   ]
  },
  {
   "cell_type": "markdown",
   "metadata": {},
   "source": [
    "Reaktoro-pse supports all available databases and activity models provided by reaktoro:\n",
    "* Please refer here for information on [databases](https://reaktoro.org/tutorials/basics/loading-databases.html) (all are supported) \n",
    "* Please refer here for information on [activity models](https://reaktoro.org/tutorials/basics/specifying-activity-models.html) (all are supported, included chain operations, or passing in pre-configured activity models) \n",
    "\n",
    "Reaktoro-pse supports all properties that provide as single floating point or real value as an output from chemical and aqueous properties: \n",
    "* [Chemical properties](https://reaktoro.org/api/classReaktoro_1_1ChemicalProps.html)\n",
    "* [Aqueous properties](https://reaktoro.org/api/classReaktoro_1_1AqueousProps.html)\n",
    "* Pyomo build properties, which are custom properties built in pyomo that use chemical properties or aqueous properties "
   ]
  },
  {
   "cell_type": "markdown",
   "metadata": {},
   "source": [
    "## ReaktoroBlock builds reaktoro graybox usings standard IDAES state block methods\n",
    "\n",
    "The ReaktoroBlock automates construction of reaktoro graybox, providing range of configuration of options to simplify performing equilibrium chemistry calculations\n",
    "* Enables construction of speciation block and propagation of exact spetiation to property block to enable chemistry modification\n",
    "* Supports indexing \n",
    "* Provides options to configure reaktoro property block (and if constructed speciation block) \n",
    "* Uses core api functionality to automatically scale input and output variables and constraints if user does not provide any\n",
    "* Automatically scales gray box jacobian \n",
    "* Uses many defaults to simplify configuration and usage for typical calculations \n",
    "\n",
    "**Minimal configuration options required for RreaktoroBlock:**\n",
    "* Database and database file selection\n",
    "* Activity models for phases being considered\n",
    "* Input apparent or exact species mol or mass flows (**concentrations are not supported!**)\n",
    "* If speciation block is needed (if exact speciation is not provided then generally yes)\n",
    "* System states (temperature, pressure, or pH, unless they are being solved for)\n",
    "* Outputs of interest "
   ]
  },
  {
   "cell_type": "markdown",
   "metadata": {},
   "source": [
    "### Example for speciation of NaCl and use with RO model"
   ]
  },
  {
   "cell_type": "markdown",
   "metadata": {},
   "source": [
    "## Import needed modules"
   ]
  },
  {
   "cell_type": "code",
   "execution_count": null,
   "metadata": {},
   "outputs": [],
   "source": [
    "## Import core components\n",
    "# Pyomo core components\n",
    "from pyomo.environ import (\n",
    "    Var,\n",
    "    Constraint,\n",
    "    TransformationFactory,\n",
    "    Reals,\n",
    "    ConcreteModel,\n",
    "    value,\n",
    "    assert_optimal_termination,\n",
    "    units as pyunits,\n",
    ")\n",
    "from pyomo.network import Arc\n",
    "\n",
    "# Ideas core components\n",
    "from idaes.core import FlowsheetBlock\n",
    "from idaes.core.util.scaling import (\n",
    "    calculate_scaling_factors,\n",
    "    set_scaling_factor,\n",
    "    get_scaling_factor,\n",
    ")\n",
    "from idaes.core.util.model_statistics import degrees_of_freedom\n",
    "from watertap.core.solvers import get_solver\n",
    "from idaes.core.util.scaling import constraint_scaling_transform\n",
    "from idaes.core.util.initialization import propagate_state\n",
    "from idaes.models.unit_models import Feed\n",
    "from pyomo.util.calc_var_value import calculate_variable_from_constraint\n",
    "\n",
    "# WaterTAP core components\n",
    "import watertap.property_models.NaCl_prop_pack as properties\n",
    "\n",
    "from reaktoro_pse.reaktoro_block import ReaktoroBlock\n",
    "\n",
    "import reaktoro"
   ]
  },
  {
   "cell_type": "markdown",
   "metadata": {},
   "source": [
    "### Configure sea water feed composition and constraints"
   ]
  },
  {
   "cell_type": "code",
   "execution_count": null,
   "metadata": {},
   "outputs": [],
   "source": [
    "\n",
    "'''Composition of sea water with ion concentration in mg/L'''\n",
    "sea_water_composition={\n",
    "    'Na':10556,\n",
    "    'K':380,\n",
    "    \"Ca\":400,\n",
    "    'Mg':1262,\n",
    "    'Cl':18980,\n",
    "    'SO4':2649,\n",
    "    'HCO3':140,\n",
    "}\n",
    "sea_water_ph=7.56\n",
    "\n",
    "\n",
    "m = ConcreteModel()\n",
    "# create IDAES flowsheet\n",
    "m.fs = FlowsheetBlock(dynamic=False)\n",
    "# create NaCl property model\n",
    "m.fs.properties = properties.NaClParameterBlock()\n",
    "# build feed\n",
    "m.fs.feed = Feed(property_package=m.fs.properties)\n",
    "\n",
    "ions=list(sea_water_composition.keys())\n",
    "m.fs.feed_ion_concentration=Var(ions,initialize=1,bounds=(0,None),units=pyunits.mg/pyunits.L)\n",
    "'''ReaktoroBlock needs mass flows of all the species so lets create these as well'''\n",
    "ions.append('H2O')\n",
    "m.fs.feed_mass_flow_comp=Var(ions,initialize=1,bounds=(0,None),units=pyunits.kg/pyunits.s)\n",
    "\"\"\" create pH variable for feed\"\"\"\n",
    "m.fs.feed_pH=Var(initialize=sea_water_ph)\n",
    "m.fs.feed_pH.fix()\n",
    "m.fs.feed_charge=Var(initialize=0, bounds=(None,None))\n",
    "m.fs.feed_charge.fix(0.1)\n",
    "set_scaling_factor(m.fs.feed_charge,1e8)\n",
    "\"\"\" define variables for some properties\"\"\"\n",
    "m.fs.feed_density=Var(initialize=1000,units=pyunits.kg/pyunits.m**3) # default density unit returned by reaktoro - https://reaktoro.org/api/classReaktoro_1_1ChemicalProps.html#afd97c7985258fa29f5a69634c07a0ac7\n",
    "m.fs.feed_osmotic_pressure=Var(initialize=1,units=pyunits.Pa)\n",
    "m.fs.feed_adjusted_pH=Var(initialize=1,units=pyunits.dimensionless)\n",
    "\n",
    "'''Write constraints to convert concetration to mass flows'''\n",
    "@m.fs.Constraint(list(m.fs.feed_mass_flow_comp.keys()))\n",
    "def eq_feed_mass_flow_comp(fs,ion):\n",
    "    if ion=='H2O':\n",
    "        ''' making our composition mass flow same as feed mass flow already have correct units'''\n",
    "        return m.fs.feed_mass_flow_comp['H2O']==m.fs.feed.properties[0].flow_mass_phase_comp['Liq','H2O']\n",
    "    else:\n",
    "        '''calculate mass flow based on density'''\n",
    "        return m.fs.feed_mass_flow_comp[ion]==pyunits.convert(m.fs.feed_ion_concentration[ion]*m.fs.feed.properties[0].flow_mass_phase_comp[('Liq', 'H2O')]/m.fs.feed_density, to_units=pyunits.kg/pyunits.s)\n",
    "\n",
    "\"\"\" Need NaCl for the NaCl property package in watertap\"\"\"\n",
    "m.fs.eq_NaCl=Constraint(expr=m.fs.feed.properties[0].flow_mass_phase_comp[('Liq', 'NaCl')]==sum(m.fs.feed_mass_flow_comp[ion] for ion in m.fs.feed_ion_concentration))\n",
    "\n",
    "\"\"\"Lets also crate a way to modify the feed pH  as is common to do in RO processes to mitigate scaling\"\"\"\n",
    "m.fs.acid_mass_flow=Var(initialize=0, units=pyunits.kg/pyunits.s)\n",
    "m.fs.acid_dose=Var(initialize=0,units=pyunits.mg/pyunits.L)\n",
    "m.fs.eq_acid_dose=Constraint(expr=m.fs.acid_mass_flow==pyunits.convert(m.fs.acid_dose*m.fs.feed.properties[0].flow_mass_phase_comp[('Liq','H2O')]/m.fs.feed_density, to_units=pyunits.kg/pyunits.s))"
   ]
  },
  {
   "cell_type": "code",
   "execution_count": null,
   "metadata": {},
   "outputs": [],
   "source": [
    "\"\"\" Lets setup the reaktoro block\"\"\"\n",
    "\n",
    "\"\"\" first lets define an output dictionary with correct properties\"\"\"\n",
    "m.fs.feed_output = {\n",
    "    (\n",
    "        \"pH\",\n",
    "        None,\n",
    "    ): m.fs.feed_adjusted_pH,  # the \"None\" in second index is defined to indicate its a system property rather then specific component\n",
    "    (\n",
    "        \"osmoticPressure\",\n",
    "        \"H2O\",\n",
    "    ): m.fs.feed_osmotic_pressure,  # not how the second key is the water, we can get osmotic pressure for different components in the system\n",
    "    (\"density\", None): m.fs.feed_density,\n",
    "    (\"charge\", None): m.fs.feed_charge,\n",
    "    \"speciesAmount\": True,  # - this will force reaktor to return exact speciation with all species - we will use this down the line\n",
    "}\n",
    "\n",
    "m.fs.eq_feed_properties = ReaktoroBlock(\n",
    "    composition=m.fs.feed_mass_flow_comp,  # This should be either in mol, or mass basis - reaktoro will handle conversions for us\n",
    "    temperature=m.fs.feed.properties[0].temperature,\n",
    "    pressure=m.fs.feed.properties[0].pressure,\n",
    "    pH=m.fs.feed_pH,\n",
    "    outputs=m.fs.feed_output,\n",
    "    chemistry_modifier={\"HCl\": m.fs.acid_mass_flow},  # define that we are adding 'HCL',\n",
    "    database=\"PhreeqcDatabase\",  # Can provide a string, or reaktoro intialized class\n",
    "    database_file=\"pitzer.dat\",\n",
    "    aqueous_phase_activity_model=reaktoro.ActivityModelPitzer(),  # Can provide a string, or reaktoro intialized class\n",
    "    # this is default option, and in general is more stable but if set to false, will\n",
    "    # build summing constraint in pyomo\n",
    "    dissolve_species_in_reaktoro=True,\n",
    "    assert_charge_neutrality=False,  # we will do this on feed composition directly\n",
    "    # we can use default converter as its defined for default database (Phreeqc and pitzer)\n",
    "    open_species_on_property_block=[\"H+\", \"OH-\"],\n",
    "    convert_to_rkt_species=True,\n",
    "    # we are modifying state and must speciate inputs before adding acid to find final prop state.\n",
    "    build_speciation_block=True,\n",
    ")"
   ]
  },
  {
   "cell_type": "code",
   "execution_count": null,
   "metadata": {},
   "outputs": [],
   "source": [
    "\"\"\" Lets inspect inputs into the graybox model on speciation block\"\"\"\n",
    "\n",
    "m.fs.eq_feed_properties.speciation_block.reaktoro_model.inputs.display()"
   ]
  },
  {
   "cell_type": "code",
   "execution_count": null,
   "metadata": {},
   "outputs": [],
   "source": [
    "\"\"\" Lets inspect outputs from speciation block, which produce exact stream speciation based on input\"\"\"\n",
    "\n",
    "m.fs.eq_feed_properties.speciation_block.outputs.display()"
   ]
  },
  {
   "cell_type": "code",
   "execution_count": null,
   "metadata": {},
   "outputs": [],
   "source": [
    "\"\"\" Lets inspect outputs from reaktoro graybox\"\"\"\n",
    "\n",
    "\"\"\" note how the speciation block outputs are now input into the model, including chemistry modifier HCl!\"\"\"\n",
    "m.fs.eq_feed_properties.reaktoro_model.display()"
   ]
  },
  {
   "cell_type": "markdown",
   "metadata": {},
   "source": [
    "### Set default values for feed"
   ]
  },
  {
   "cell_type": "code",
   "execution_count": null,
   "metadata": {},
   "outputs": [],
   "source": [
    "m.fs.feed.properties[0].temperature.fix(273 + 25)  # temperature (K)\n",
    "m.fs.feed.properties[0].pressure.fix(101325)  # pressure (Pa)\n",
    "m.fs.feed.properties[0].flow_mass_phase_comp[\"Liq\", \"H2O\"].fix(\n",
    "    0.965\n",
    ")  # mass flowrate of H2O (kg/s)\n",
    "m.fs.feed.properties[0].conc_mass_phase_comp[...]  # construct concentration props\n",
    "m.fs.feed.properties[0].pressure_osm_phase[...]\n",
    "m.fs.properties.set_default_scaling(\n",
    "    \"flow_mass_phase_comp\",\n",
    "    1 / 0.965,\n",
    "    index=(\"Liq\", \"H2O\"),\n",
    ")\n",
    "m.fs.properties.set_default_scaling(\n",
    "    \"flow_mass_phase_comp\",\n",
    "    1 / 0.035,  # aproximage scale\n",
    "    index=(\"Liq\", \"NaCl\"),\n",
    ")\n",
    "\n",
    "for ion, value in sea_water_composition.items():\n",
    "    m.fs.feed_ion_concentration[ion].fix(value)\n",
    "    set_scaling_factor(m.fs.feed_ion_concentration[ion], 1 / value)\n",
    "\n",
    "for comp, pyoobj in m.fs.eq_feed_mass_flow_comp.items():\n",
    "    calculate_variable_from_constraint(m.fs.feed_mass_flow_comp[comp], pyoobj)\n",
    "    set_scaling_factor(\n",
    "        m.fs.feed_mass_flow_comp[ion], 1 / m.fs.feed_mass_flow_comp[comp].value\n",
    "    )\n",
    "    constraint_scaling_transform(pyoobj, 1 / m.fs.feed_mass_flow_comp[comp].value)\n",
    "\n",
    "\n",
    "calculate_variable_from_constraint(\n",
    "    m.fs.feed.properties[0].flow_mass_phase_comp[(\"Liq\", \"NaCl\")], m.fs.eq_NaCl\n",
    ")\n",
    "constraint_scaling_transform(m.fs.eq_NaCl, 1 / 0.035)\n",
    "\"\"\" check our feed compositions are correct\"\"\"\n",
    "m.fs.feed.properties[0].flow_mass_phase_comp.display()\n",
    "m.fs.feed_mass_flow_comp.display()\n",
    "set_scaling_factor(m.fs.feed_density, 1 / 1000)\n",
    "set_scaling_factor(m.fs.feed_osmotic_pressure, 1 / 1e5)\n",
    "set_scaling_factor(m.fs.feed_adjusted_pH, 1)\n",
    "set_scaling_factor(m.fs.feed_pH, 1)\n",
    "set_scaling_factor(m.fs.acid_mass_flow, 1e2)\n",
    "set_scaling_factor(m.fs.acid_dose, 1e-3)"
   ]
  },
  {
   "cell_type": "markdown",
   "metadata": {},
   "source": [
    "# Lets intializing Reaktoro block and checking outputs"
   ]
  },
  {
   "cell_type": "code",
   "execution_count": null,
   "metadata": {},
   "outputs": [],
   "source": [
    "solver = get_solver()  # get solver\n",
    "m.fs.feed.initialize(optarg=solver.options)\n",
    "m.fs.eq_feed_properties.initialize()\n",
    "\"\"\" this is our exact composition!\"\"\"\n",
    "# m.fs.eq_feed_properties.outputs.display()\n",
    "\n",
    "\"\"\" and these are manually defined properties and variables of interest \"\"\"\n",
    "print(\n",
    "    \"Density reaktoro\",\n",
    "    m.fs.feed_density.value,\n",
    "    \"Density NaCl prop pack\",\n",
    "    m.fs.feed.properties[0].dens_mass_phase[\"Liq\"].value,\n",
    ")\n",
    "print(\n",
    "    \"Osmotic pressure\",\n",
    "    m.fs.feed_osmotic_pressure.value,\n",
    "    \"Density NaCl prop pack\",\n",
    "    m.fs.feed.properties[0].pressure_osm_phase[\"Liq\"].value,\n",
    ")\n",
    "print(\"Adjusted pH\", m.fs.feed_adjusted_pH.value)\n",
    "print(\"Solution charge\", m.fs.feed_charge.value)"
   ]
  },
  {
   "cell_type": "code",
   "execution_count": null,
   "metadata": {},
   "outputs": [],
   "source": [
    "\"\"\" lets check jacobian outputs\"\"\"\n",
    "\n",
    "m.fs.eq_feed_properties.display_jacobian_outputs()"
   ]
  },
  {
   "cell_type": "code",
   "execution_count": null,
   "metadata": {},
   "outputs": [],
   "source": [
    "\"\"\" lets check jacobian outputs and get a dict of outputs, usefull for manually adjusting scaling factors\"\"\"\n",
    "\n",
    "jac_scaling_dict = m.fs.eq_feed_properties.display_jacobian_scaling()"
   ]
  },
  {
   "cell_type": "code",
   "execution_count": null,
   "metadata": {},
   "outputs": [],
   "source": [
    "print(jac_scaling_dict)"
   ]
  },
  {
   "cell_type": "markdown",
   "metadata": {},
   "source": [
    "Lets solve the current model to find actual mass flows and densities, and new Cl amout to get zero charge"
   ]
  },
  {
   "cell_type": "code",
   "execution_count": null,
   "metadata": {},
   "outputs": [],
   "source": [
    "\"\"\" get cyipopt as we need it for gray box\"\"\"\n",
    "\n",
    "m.fs.feed_ion_concentration[\"Cl\"].unfix()\n",
    "m.fs.feed_charge.fix(0)\n",
    "\n",
    "initial_cl = m.fs.feed_ion_concentration[\"Cl\"].value\n",
    "cy_solver = get_solver(solver=\"cyipopt-watertap\")\n",
    "\n",
    "cy_solver.options[\"max_iter\"] = 25\n",
    "\n",
    "\"\"\" lets also set a target pH for typical desal operation\"\"\"\n",
    "m.fs.feed_adjusted_pH.fix(7)\n",
    "result = cy_solver.solve(m, tee=True)\n",
    "print(\n",
    "    \"Density reaktoro\",\n",
    "    m.fs.feed_density.value,\n",
    "    \"Density NaCl prop pack\",\n",
    "    m.fs.feed.properties[0].dens_mass_phase[\"Liq\"].value,\n",
    ")\n",
    "print(\n",
    "    \"Osmotic pressure\",\n",
    "    m.fs.feed_osmotic_pressure.value,\n",
    "    \"Density NaCl prop pack\",\n",
    "    m.fs.feed.properties[0].pressure_osm_phase[\"Liq\"].value,\n",
    ")\n",
    "print(\n",
    "    \"Adjusted pH\",\n",
    "    m.fs.feed_adjusted_pH.value,\n",
    "    \"Acid dose\",\n",
    "    m.fs.acid_dose.value,\n",
    "    \"Acid mass flow\",\n",
    "    m.fs.acid_mass_flow.value,\n",
    ")\n",
    "print(\n",
    "    \"Solution charge\",\n",
    "    m.fs.feed_charge.value,\n",
    "    \"intial Cl\",\n",
    "    initial_cl,\n",
    "    \"final Cl\",\n",
    "    m.fs.feed_ion_concentration[\"Cl\"].value,\n",
    ")"
   ]
  },
  {
   "cell_type": "markdown",
   "metadata": {},
   "source": [
    "## Updating Jacobian scaling \n",
    "In some cases we need to manually scale output Jacobian values, as they can get overscaled via automatic scaling.\n",
    "Here we know that the our main model uses density and pH, making them prime suspects for causing solving issues.\n",
    "Lets rescale density to 1 manually via set_jacobian_scaling method - I also suggest applying this scaling above before first solve and rerunning the notebook to see difference in number of iterations and optimal solve state. "
   ]
  },
  {
   "cell_type": "code",
   "execution_count": null,
   "metadata": {},
   "outputs": [],
   "source": [
    "\"\"\" get cyipopt as we need it for gray box\"\"\"\n",
    "\n",
    "\"\"\" lets also set a target pH for typical desal operation\"\"\"\n",
    "m.fs.eq_feed_properties.set_jacobian_scaling({(\"density\", None): 1})\n",
    "\n",
    "result = cy_solver.solve(m, tee=True)\n",
    "print(\n",
    "    \"Density reaktoro\",\n",
    "    m.fs.feed_density.value,\n",
    "    \"Density NaCl prop pack\",\n",
    "    m.fs.feed.properties[0].dens_mass_phase[\"Liq\"].value,\n",
    ")\n",
    "print(\n",
    "    \"Osmotic pressure\",\n",
    "    m.fs.feed_osmotic_pressure.value,\n",
    "    \"Density NaCl prop pack\",\n",
    "    m.fs.feed.properties[0].pressure_osm_phase[\"Liq\"].value,\n",
    ")\n",
    "print(\n",
    "    \"Adjusted pH\",\n",
    "    m.fs.feed_adjusted_pH.value,\n",
    "    \"Acid dose\",\n",
    "    m.fs.acid_dose.value,\n",
    "    \"Acid mass flow\",\n",
    "    m.fs.acid_mass_flow.value,\n",
    ")"
   ]
  },
  {
   "cell_type": "markdown",
   "metadata": {},
   "source": [
    "### Adding RO model and replacing default osmotic pressure in it with reaktoro calculations.\n",
    "#### Build RO model "
   ]
  },
  {
   "cell_type": "code",
   "execution_count": null,
   "metadata": {},
   "outputs": [],
   "source": [
    "from watertap.unit_models.reverse_osmosis_1D import (\n",
    "    ReverseOsmosis1D,\n",
    "    ConcentrationPolarizationType,\n",
    "    MassTransferCoefficient,\n",
    "    PressureChangeType,\n",
    ")\n",
    "from watertap.unit_models.pressure_changer import Pump\n",
    "\n",
    "m.fs.pump = Pump(property_package=m.fs.properties)\n",
    "m.fs.RO = ReverseOsmosis1D(\n",
    "    property_package=m.fs.properties,\n",
    "    has_pressure_change=True,\n",
    "    pressure_change_type=PressureChangeType.calculated,\n",
    "    mass_transfer_coefficient=MassTransferCoefficient.calculated,\n",
    "    concentration_polarization_type=ConcentrationPolarizationType.calculated,\n",
    "    transformation_scheme=\"BACKWARD\",\n",
    "    transformation_method=\"dae.finite_difference\",\n",
    "    finite_elements=10,\n",
    ")\n",
    "# connect feed to pump\n",
    "m.fs.feed_to_pump = Arc(source=m.fs.feed.outlet, destination=m.fs.pump.inlet)\n",
    "# connect pump to RO unit\n",
    "m.fs.pump_to_ro = Arc(source=m.fs.pump.outlet, destination=m.fs.RO.inlet)\n",
    "# Expand arcs\n",
    "TransformationFactory(\"network.expand_arcs\").apply_to(m)"
   ]
  },
  {
   "cell_type": "markdown",
   "metadata": {},
   "source": [
    "Add reaktoro blocks for osmotic pressure calculations. \n",
    "Here we will pass in exact speciation we calculate for the feed, this fixes the total amount of elements and higher pressure will only change\n",
    "distribution of those elements among species, thus we do not need to re-speciate after the pump. \n",
    "We will also need to acount for removal of water, this can be done useing chemistry modifier and \n",
    "calculating change in water mass flow between feed and flow at each membrane interphase point, this accounts for CP. "
   ]
  },
  {
   "cell_type": "code",
   "execution_count": null,
   "metadata": {},
   "outputs": [],
   "source": [
    "indexes = list(m.fs.RO.length_domain)\n",
    "\n",
    "indexes.pop(0)  # zeros domain does not do anything\n",
    "\n",
    "m.fs.ro_interphase_flow_mass_comp = Var(\n",
    "    indexes,\n",
    "    list(m.fs.feed_mass_flow_comp.keys()),\n",
    "    initialize=1,\n",
    "    units=pyunits.kg / pyunits.s,\n",
    "    domain=Reals,\n",
    ")  # make sure to provide correct units!\n",
    "\n",
    "\n",
    "@m.fs.Constraint(list(m.fs.ro_interphase_flow_mass_comp.keys()))\n",
    "def eq_ro_interphase_flow_mass_comp(fs, idx, ion):\n",
    "    if ion == \"H2O\":\n",
    "        return (\n",
    "            m.fs.ro_interphase_flow_mass_comp[idx, \"H2O\"]\n",
    "            == m.fs.RO.feed_side.properties_interface[0.0, idx].flow_mass_phase_comp[\n",
    "                \"Liq\", \"H2O\"\n",
    "            ]\n",
    "        )\n",
    "    else:\n",
    "        return (\n",
    "            m.fs.ro_interphase_flow_mass_comp[idx, ion]\n",
    "            == m.fs.feed_mass_flow_comp[ion]\n",
    "            * m.fs.RO.feed_side.properties_interface[0.0, idx].flow_mass_phase_comp[\n",
    "                (\"Liq\", \"NaCl\")\n",
    "            ]\n",
    "            / m.fs.feed.properties[0].flow_mass_phase_comp[(\"Liq\", \"NaCl\")]\n",
    "        )\n",
    "\n",
    "\n",
    "m.fs.feed.properties[0].flow_mass_phase_comp[\"Liq\", \"H2O\"]\n",
    "\n",
    "\"\"\" lets set up indexed outputs, here we want to use existing indexed osmotic pressure in RO unit, but also want to track scaling tendencies, so \n",
    "we will need to create a dictionary to combine all of these into one and pass them into our indexed reaktoro block\"\"\"\n",
    "m.fs.indexed_outputs = {}\n",
    "for idx in indexes:\n",
    "    m.fs.indexed_outputs[(idx, \"osmoticPressure\", \"H2O\")] = (\n",
    "        m.fs.RO.feed_side.properties_interface[0.0, idx].pressure_osm_phase[\"Liq\"]\n",
    "    )\n",
    "# create sclaing tendcies with indexes\n",
    "m.fs.ro_scaling_tendencies = Var(\n",
    "    indexes,\n",
    "    ((\"scalingTendency\", \"Calcite\"), (\"scalingTendency\", \"Gypsum\")),\n",
    "    initialize=1,\n",
    ")\n",
    "set_scaling_factor(m.fs.ro_scaling_tendencies, 1)\n",
    "m.fs.ro_interphase_pH = Var(\n",
    "    indexes,\n",
    "    [(\"pH\", None)],\n",
    "    initialize=1,\n",
    ")\n",
    "set_scaling_factor(m.fs.ro_interphase_pH, 1)\n",
    "for idx, obj in m.fs.ro_scaling_tendencies.items():\n",
    "    m.fs.indexed_outputs[idx] = obj\n",
    "for idx, obj in m.fs.ro_interphase_pH.items():\n",
    "    m.fs.indexed_outputs[idx] = obj\n",
    "for key, obj in m.fs.indexed_outputs.items():\n",
    "    print(key, obj)\n",
    "\n",
    "\"\"\" finally, we need to repackage ro pressure so ReaktoroBlock can properly process it\"\"\"\n",
    "m.fs.ro_pressure = {}\n",
    "for idx in indexes:\n",
    "    m.fs.ro_pressure[idx] = m.fs.RO.feed_side.properties_interface[0.0, idx].pressure\n",
    "\n",
    "m.fs.eq_ro_chem_props = ReaktoroBlock(\n",
    "    indexes,\n",
    "    composition=m.fs.ro_interphase_flow_mass_comp,  # This should be either in mol, or mass basis - reaktoro will handle conversions for us\n",
    "    temperature=m.fs.feed.properties[0].temperature,\n",
    "    temperature_indexed=False,  # temperature is constant here, so just use feed.\n",
    "    pressure=m.fs.ro_pressure,\n",
    "    pH=m.fs.feed_adjusted_pH,\n",
    "    pH_indexed=False,  # we are not providing unique pH at each node\n",
    "    outputs=m.fs.indexed_outputs,\n",
    "    database=\"PhreeqcDatabase\",  # Can provide a string, or reaktoro intialized class\n",
    "    database_file=\"pitzer.dat\",\n",
    "    aqueous_phase_activity_model=reaktoro.ActivityModelPitzer(),  # Can provide a string, or reaktoro intialized class\n",
    "    # this is default option, and in general is more stable but if set to false, will\n",
    "    # build summing constraint in pyomo\n",
    "    exact_speciation=False,  # WE are providing exact specitaiton\n",
    "    dissolve_species_in_reaktoro=True,\n",
    "    build_speciation_block=True,\n",
    "    convert_to_rkt_species=True,\n",
    "    # open_species_on_property_block=[\"H+\", \"OH-\"], #We wil open these to help stabilize reaktoro solver, it will have no impact on solution\n",
    "    jacobian_user_scaling={\n",
    "        (\n",
    "            \"pressure\",\n",
    "            None,\n",
    "        ): 1,  # this is an output used for scalingTendency calculation, but as we fix system pressure, the jacobian is just 1, so scaling should be 1\n",
    "    },\n",
    ")"
   ]
  },
  {
   "cell_type": "markdown",
   "metadata": {},
   "source": [
    "Configure RO defaults, scale, and build reaktoro blocks\n"
   ]
  },
  {
   "cell_type": "code",
   "execution_count": null,
   "metadata": {},
   "outputs": [],
   "source": [
    "m.fs.feed.properties[0].pressure_osm_phase[...]\n",
    "# define pump defaults\n",
    "m.fs.pump.efficiency_pump[0].fix(0.75)\n",
    "# scale work and pressures for the pump\n",
    "set_scaling_factor(m.fs.pump.control_volume.work, 1e-4)\n",
    "set_scaling_factor(m.fs.pump.control_volume.properties_out[0].pressure, 1e-5)\n",
    "set_scaling_factor(m.fs.pump.control_volume.properties_in[0].pressure, 1e-5)\n",
    "\n",
    "# define RO default values for initialization\n",
    "# we opt to specify stage area, and inlet velocity\n",
    "# unfixing width and area\n",
    "# We also apply variable scaling as we set up each default parameter\n",
    "\n",
    "m.fs.RO.feed_side.velocity[0, 0].fix(0.1)\n",
    "m.fs.RO.area.fix(100)\n",
    "set_scaling_factor(m.fs.RO.area, 1 / 50)\n",
    "m.fs.RO.length.unfix()\n",
    "set_scaling_factor(m.fs.RO.length, 0.1)\n",
    "m.fs.RO.width.unfix()\n",
    "set_scaling_factor(m.fs.RO.width, 0.1)\n",
    "\n",
    "# we need to specify RO permeate pressure\n",
    "m.fs.RO.permeate.pressure[0].fix(101325)\n",
    "# we need to specify default values for default mass transport\n",
    "# and friction factor correlations\n",
    "m.fs.RO.feed_side.channel_height.fix(1e-3)\n",
    "m.fs.RO.feed_side.spacer_porosity.fix(0.9)\n",
    "\n",
    "# Specify default A and B values, these are defined as m/s/Pa and m/s, respectively.\n",
    "m.fs.RO.A_comp[0, \"H2O\"].fix(3 / (3600 * 1000 * 1e5))\n",
    "m.fs.RO.B_comp[0, \"NaCl\"].fix(0.15 / (3600 * 1000))\n",
    "\n",
    "# calculate all the scaling factors\n",
    "calculate_scaling_factors(m)"
   ]
  },
  {
   "cell_type": "markdown",
   "metadata": {},
   "source": [
    "Initialize RO model and pump"
   ]
  },
  {
   "cell_type": "code",
   "execution_count": null,
   "metadata": {},
   "outputs": [],
   "source": [
    "propagate_state(m.fs.feed_to_pump)\n",
    "# get osmotic pressure\n",
    "osmotic_feed_pressure = m.fs.feed.properties[0].pressure_osm_phase[\"Liq\"].value\n",
    "print(\"Osmotic pressure is {} bar\".format(osmotic_feed_pressure / 1e5))\n",
    "m.fs.pump.outlet.pressure[0].fix(osmotic_feed_pressure * 1.5)\n",
    "m.fs.pump.initialize(optarg=solver.options)\n",
    "\n",
    "propagate_state(m.fs.pump_to_ro)\n",
    "m.fs.RO.initialize(optarg=solver.options)"
   ]
  },
  {
   "cell_type": "markdown",
   "metadata": {},
   "source": []
  },
  {
   "cell_type": "markdown",
   "metadata": {},
   "source": [
    "Initialize water removal and deactivate RO osmotic pressure constraints and intialize ro chem prop blocks"
   ]
  },
  {
   "cell_type": "code",
   "execution_count": null,
   "metadata": {},
   "outputs": [],
   "source": [
    "for (idx, ion), obj in m.fs.ro_interphase_flow_mass_comp.items():\n",
    "    calculate_variable_from_constraint(\n",
    "        m.fs.ro_interphase_flow_mass_comp[idx, ion],\n",
    "        m.fs.eq_ro_interphase_flow_mass_comp[idx, ion],\n",
    "    )\n",
    "    sf = 1 / m.fs.feed_mass_flow_comp[ion].value\n",
    "    set_scaling_factor(m.fs.ro_interphase_flow_mass_comp[idx, ion], sf)\n",
    "    constraint_scaling_transform(m.fs.eq_ro_interphase_flow_mass_comp[idx, ion], sf)\n",
    "    m.fs.RO.feed_side.properties_interface[0.0, idx].eq_pressure_osm_phase[\n",
    "        \"Liq\"\n",
    "    ].deactivate()\n",
    "\n",
    "\"\"\" these are indexed blocks, so we need to initialize them one by one\"\"\"\n",
    "for blk, obj in m.fs.eq_ro_chem_props.items():\n",
    "    obj.initialize()\n",
    "\"\"\" check outputs make sense\"\"\"\n",
    "for key, obj in m.fs.indexed_outputs.items():\n",
    "    print(key, obj.value)"
   ]
  },
  {
   "cell_type": "markdown",
   "metadata": {},
   "source": [
    "Solve RO model with new osmotic pressure calculation "
   ]
  },
  {
   "cell_type": "code",
   "execution_count": null,
   "metadata": {},
   "outputs": [],
   "source": [
    "result = cy_solver.solve(m, tee=True)\n",
    "assert_optimal_termination(result)"
   ]
  },
  {
   "cell_type": "markdown",
   "metadata": {},
   "source": [
    "# Compare osmotic pressure for NaCl vs Reaktoro"
   ]
  },
  {
   "cell_type": "code",
   "execution_count": null,
   "metadata": {},
   "outputs": [],
   "source": [
    "import matplotlib.pyplot as plt\n",
    "\n",
    "fig, ax = plt.subplots()\n",
    "\n",
    "reaktoro_osm = []\n",
    "sewater_prop_pack_osm = []\n",
    "for idx in indexes:\n",
    "    reaktoro_osm.append(\n",
    "        float(m.fs.indexed_outputs[idx, \"osmoticPressure\", \"H2O\"].value / 1e5)\n",
    "    )\n",
    "    calculate_variable_from_constraint(\n",
    "        m.fs.indexed_outputs[idx, \"osmoticPressure\", \"H2O\"],\n",
    "        m.fs.RO.feed_side.properties_interface[0.0, idx].eq_pressure_osm_phase[\"Liq\"],\n",
    "    )\n",
    "    sewater_prop_pack_osm.append(\n",
    "        float(m.fs.indexed_outputs[idx, \"osmoticPressure\", \"H2O\"].value / 1e5)\n",
    "    )\n",
    "\n",
    "ax.plot(indexes, reaktoro_osm, color=\"red\", label=\"Reaktoro\")\n",
    "ax.plot(indexes, sewater_prop_pack_osm, color=\"black\", label=\"NaCl property pack\")\n",
    "ax.set(xlabel=\"Node position ()\", ylabel=\"Osmotic pressure (Bar)\")\n",
    "plt.legend()\n",
    "plt.show()"
   ]
  },
  {
   "cell_type": "markdown",
   "metadata": {},
   "source": [
    "Check other properties"
   ]
  },
  {
   "cell_type": "code",
   "execution_count": null,
   "metadata": {},
   "outputs": [],
   "source": [
    "fig, ax = plt.subplots()\n",
    "\n",
    "scaling_calcite = []\n",
    "scaling_gypsum = []\n",
    "for idx in indexes:\n",
    "    scaling_calcite.append(\n",
    "        float(m.fs.indexed_outputs[idx, \"scalingTendency\", \"Calcite\"].value)\n",
    "    )\n",
    "    scaling_gypsum.append(\n",
    "        float(m.fs.indexed_outputs[idx, \"scalingTendency\", \"Gypsum\"].value)\n",
    "    )\n",
    "ax.plot(indexes, scaling_calcite, color=\"red\", label=\"Calcite\")\n",
    "ax.plot(indexes, scaling_gypsum, color=\"black\", label=\"Gypsum\")\n",
    "ax.set(xlabel=\"Node position\", ylabel=\"Scaling tendency\")\n",
    "plt.legend()\n",
    "plt.show()"
   ]
  },
  {
   "cell_type": "markdown",
   "metadata": {},
   "source": [
    "Solve RO for higher recovery. "
   ]
  },
  {
   "cell_type": "code",
   "execution_count": null,
   "metadata": {},
   "outputs": [],
   "source": [
    "print(\"Current recovery\", m.fs.RO.recovery_vol_phase[0, \"Liq\"].value)\n",
    "m.fs.RO.recovery_vol_phase[0, \"Liq\"].fix(0.60)\n",
    "m.fs.pump.outlet.pressure[0].unfix()\n",
    "m.fs.RO.area.fix(200)  # double our area for higher\n",
    "result = cy_solver.solve(m, tee=True)\n",
    "fig, ax = plt.subplots()\n",
    "\n",
    "reaktoro_osm = []\n",
    "sewater_prop_pack_osm = []\n",
    "for idx in indexes:\n",
    "    reaktoro_osm.append(\n",
    "        float(m.fs.indexed_outputs[idx, \"osmoticPressure\", \"H2O\"].value / 1e5)\n",
    "    )\n",
    "    calculate_variable_from_constraint(\n",
    "        m.fs.indexed_outputs[idx, \"osmoticPressure\", \"H2O\"],\n",
    "        m.fs.RO.feed_side.properties_interface[0.0, idx].eq_pressure_osm_phase[\"Liq\"],\n",
    "    )\n",
    "    sewater_prop_pack_osm.append(\n",
    "        float(m.fs.indexed_outputs[idx, \"osmoticPressure\", \"H2O\"].value / 1e5)\n",
    "    )\n",
    "\n",
    "ax.plot(indexes, reaktoro_osm, color=\"red\", label=\"Reaktoro\")\n",
    "ax.plot(indexes, sewater_prop_pack_osm, color=\"black\", label=\"NaCl property pack\")\n",
    "ax.set(xlabel=\"Node position\", ylabel=\"Osmotic pressure (Bar)\")\n",
    "plt.legend()\n",
    "\n",
    "fig, ax = plt.subplots()\n",
    "\n",
    "scaling_calcite = []\n",
    "scaling_gypsum = []\n",
    "for idx in indexes:\n",
    "    scaling_calcite.append(\n",
    "        float(m.fs.indexed_outputs[idx, \"scalingTendency\", \"Calcite\"].value)\n",
    "    )\n",
    "    scaling_gypsum.append(\n",
    "        float(m.fs.indexed_outputs[idx, \"scalingTendency\", \"Gypsum\"].value)\n",
    "    )\n",
    "ax.plot(indexes, scaling_calcite, color=\"red\", label=\"Calcite\")\n",
    "ax.plot(indexes, scaling_gypsum, color=\"black\", label=\"Gypsum\")\n",
    "ax.set(xlabel=\"Node position\", ylabel=\"Scaling tendency\")\n",
    "plt.legend()\n",
    "plt.show()"
   ]
  }
 ],
 "metadata": {
  "kernelspec": {
   "display_name": "reaktoro-pse-dev",
   "language": "python",
   "name": "python3"
  },
  "language_info": {
   "codemirror_mode": {
    "name": "ipython",
    "version": 3
   },
   "file_extension": ".py",
   "mimetype": "text/x-python",
   "name": "python",
   "nbconvert_exporter": "python",
   "pygments_lexer": "ipython3",
   "version": "3.11.9"
  }
 },
 "nbformat": 4,
 "nbformat_minor": 4
}
